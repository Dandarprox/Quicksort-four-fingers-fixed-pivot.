{
 "cells": [
  {
   "cell_type": "code",
   "execution_count": null,
   "metadata": {
    "collapsed": true
   },
   "outputs": [],
   "source": [
    "import itertools\n",
    "from sys import *\n",
    "setrecursionlimit(1000000)\n",
    "\n",
    "comparaciones = 0\n",
    "\n",
    "def QuicksortStart(A):\n",
    "    Quicksort(A, 0, len(A) - 1)\n",
    "\n",
    "\n",
    "def Quicksort(A, p, r):\n",
    "    if p < r:\n",
    "        q = Partition(A, p, r)\n",
    "        Quicksort(A, p, q - 1)\n",
    "        Quicksort(A, q + 1, r)\n",
    "\n",
    "def Partition(A, p, r):\n",
    "    x = A[r]\n",
    "    i = p\n",
    "    j = p\n",
    "    while j < r:\n",
    "        global comparaciones\n",
    "        comparaciones += 1\n",
    "        if A[j] <= x:\n",
    "            exchange(i, j)\n",
    "            i += 1\n",
    "        j += 1\n",
    "    exchange(i, r)\n",
    "    return i\n",
    "\n",
    "def exchange(i, j):\n",
    "    temp = A[i]\n",
    "    A[i] = A[j]\n",
    "    A[j] = temp\n",
    "\n",
    "A = [1, 2, 3, 4]\n",
    "elem = list(itertools.permutations(A))\n",
    "count = 1\n",
    "for x in elem:\n",
    "    QuicksortStart(x)\n",
    "    count += 1\n",
    "    print list(x), \"\\t\", comparaciones\n",
    "    comparaciones = 0\n"
   ]
  }
 ],
 "metadata": {
  "kernelspec": {
   "display_name": "Python 3",
   "language": "python",
   "name": "python3"
  },
  "language_info": {
   "codemirror_mode": {
    "name": "ipython",
    "version": 3
   },
   "file_extension": ".py",
   "mimetype": "text/x-python",
   "name": "python",
   "nbconvert_exporter": "python",
   "pygments_lexer": "ipython3",
   "version": "3.5.2"
  }
 },
 "nbformat": 4,
 "nbformat_minor": 1
}
